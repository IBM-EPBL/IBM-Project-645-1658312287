{
  "cells": [
    {
      "cell_type": "code",
      "source": [
        "!unzip '/content/Data Set.zip'"
      ],
      "metadata": {
        "colab": {
          "base_uri": "https://localhost:8080/"
        },
        "id": "Voi9dc6oQrtY",
        "outputId": "3d4be728-e743-44c9-9542-cfe65c8543e4"
      },
      "id": "Voi9dc6oQrtY",
      "execution_count": null,
      "outputs": [
        {
          "output_type": "stream",
          "name": "stdout",
          "text": [
            "Archive:  /content/Data Set.zip\n",
            "   creating: Data Set/test/\n",
            "   creating: Data Set/test/0/\n",
            "  inflating: Data Set/test/0/0.jpg   \n",
            "  inflating: Data Set/test/0/1.jpg   \n",
            "  inflating: Data Set/test/0/2.jpg   \n",
            "  inflating: Data Set/test/0/3.jpg   \n",
            "  inflating: Data Set/test/0/4.jpg   \n",
            "   creating: Data Set/test/1/\n",
            "  inflating: Data Set/test/1/0.jpg   \n",
            "  inflating: Data Set/test/1/1.jpg   \n",
            "  inflating: Data Set/test/1/2.jpg   \n",
            "  inflating: Data Set/test/1/3.jpg   \n",
            "  inflating: Data Set/test/1/4.jpg   \n",
            "   creating: Data Set/test/2/\n",
            "  inflating: Data Set/test/2/0.jpg   \n",
            "  inflating: Data Set/test/2/1.jpg   \n",
            "  inflating: Data Set/test/2/2.jpg   \n",
            "  inflating: Data Set/test/2/3.jpg   \n",
            "  inflating: Data Set/test/2/4.jpg   \n",
            "   creating: Data Set/test/3/\n",
            "  inflating: Data Set/test/3/0.jpg   \n",
            "  inflating: Data Set/test/3/1.jpg   \n",
            "  inflating: Data Set/test/3/2.jpg   \n",
            "  inflating: Data Set/test/3/3.jpg   \n",
            "  inflating: Data Set/test/3/4.jpg   \n",
            "   creating: Data Set/test/4/\n",
            "  inflating: Data Set/test/4/0.jpg   \n",
            "  inflating: Data Set/test/4/1.jpg   \n",
            "  inflating: Data Set/test/4/2.jpg   \n",
            "  inflating: Data Set/test/4/3.jpg   \n",
            "  inflating: Data Set/test/4/4.jpg   \n",
            "   creating: Data Set/test/5/\n",
            "  inflating: Data Set/test/5/0.jpg   \n",
            "  inflating: Data Set/test/5/1.jpg   \n",
            "  inflating: Data Set/test/5/2.jpg   \n",
            "  inflating: Data Set/test/5/3.jpg   \n",
            "  inflating: Data Set/test/5/4.jpg   \n",
            "   creating: Data Set/train/\n",
            "   creating: Data Set/train/0/\n",
            "  inflating: Data Set/train/0/1.jpg  \n",
            "  inflating: Data Set/train/0/10.jpg  \n",
            "  inflating: Data Set/train/0/11.jpg  \n",
            "  inflating: Data Set/train/0/12.jpg  \n",
            "  inflating: Data Set/train/0/13.jpg  \n",
            "  inflating: Data Set/train/0/14.jpg  \n",
            "  inflating: Data Set/train/0/15.jpg  \n",
            "  inflating: Data Set/train/0/16.jpg  \n",
            "  inflating: Data Set/train/0/17.jpg  \n",
            "  inflating: Data Set/train/0/18.jpg  \n",
            "  inflating: Data Set/train/0/19.jpg  \n",
            "  inflating: Data Set/train/0/2.jpg  \n",
            "  inflating: Data Set/train/0/20.jpg  \n",
            "  inflating: Data Set/train/0/21.jpg  \n",
            "  inflating: Data Set/train/0/22.jpg  \n",
            "  inflating: Data Set/train/0/23.jpg  \n",
            "  inflating: Data Set/train/0/24.jpg  \n",
            " extracting: Data Set/train/0/25.jpg  \n",
            " extracting: Data Set/train/0/26.jpg  \n",
            "  inflating: Data Set/train/0/27.jpg  \n",
            " extracting: Data Set/train/0/28.jpg  \n",
            " extracting: Data Set/train/0/29.jpg  \n",
            "  inflating: Data Set/train/0/3.jpg  \n",
            "  inflating: Data Set/train/0/30.jpg  \n",
            " extracting: Data Set/train/0/31.jpg  \n",
            " extracting: Data Set/train/0/32.jpg  \n",
            " extracting: Data Set/train/0/33.jpg  \n",
            " extracting: Data Set/train/0/34.jpg  \n",
            " extracting: Data Set/train/0/35.jpg  \n",
            "  inflating: Data Set/train/0/36.jpg  \n",
            " extracting: Data Set/train/0/37.jpg  \n",
            " extracting: Data Set/train/0/38.jpg  \n",
            "  inflating: Data Set/train/0/39.jpg  \n",
            "  inflating: Data Set/train/0/4.jpg  \n",
            " extracting: Data Set/train/0/40.jpg  \n",
            " extracting: Data Set/train/0/41.jpg  \n",
            "  inflating: Data Set/train/0/42.jpg  \n",
            " extracting: Data Set/train/0/43.jpg  \n",
            "  inflating: Data Set/train/0/44.jpg  \n",
            " extracting: Data Set/train/0/45.jpg  \n",
            " extracting: Data Set/train/0/46.jpg  \n",
            " extracting: Data Set/train/0/47.jpg  \n",
            " extracting: Data Set/train/0/48.jpg  \n",
            " extracting: Data Set/train/0/49.jpg  \n",
            "  inflating: Data Set/train/0/5.jpg  \n",
            " extracting: Data Set/train/0/50.jpg  \n",
            " extracting: Data Set/train/0/51.jpg  \n",
            "  inflating: Data Set/train/0/52.jpg  \n",
            " extracting: Data Set/train/0/53.jpg  \n",
            " extracting: Data Set/train/0/54.jpg  \n",
            " extracting: Data Set/train/0/55.jpg  \n",
            "  inflating: Data Set/train/0/56.jpg  \n",
            " extracting: Data Set/train/0/57.jpg  \n",
            "  inflating: Data Set/train/0/58.jpg  \n",
            " extracting: Data Set/train/0/59.jpg  \n",
            "  inflating: Data Set/train/0/6.jpg  \n",
            " extracting: Data Set/train/0/60.jpg  \n",
            " extracting: Data Set/train/0/61.jpg  \n",
            " extracting: Data Set/train/0/62.jpg  \n",
            " extracting: Data Set/train/0/63.jpg  \n",
            "  inflating: Data Set/train/0/64.jpg  \n",
            "  inflating: Data Set/train/0/65.jpg  \n",
            "  inflating: Data Set/train/0/66.jpg  \n",
            " extracting: Data Set/train/0/67.jpg  \n",
            "  inflating: Data Set/train/0/68.jpg  \n",
            "  inflating: Data Set/train/0/69.jpg  \n",
            "  inflating: Data Set/train/0/7.jpg  \n",
            " extracting: Data Set/train/0/70.jpg  \n",
            "  inflating: Data Set/train/0/71.jpg  \n",
            "  inflating: Data Set/train/0/72.jpg  \n",
            "  inflating: Data Set/train/0/73.jpg  \n",
            "  inflating: Data Set/train/0/74.jpg  \n",
            " extracting: Data Set/train/0/75.jpg  \n",
            "  inflating: Data Set/train/0/76.jpg  \n",
            "  inflating: Data Set/train/0/77.jpg  \n",
            "  inflating: Data Set/train/0/78.jpg  \n",
            " extracting: Data Set/train/0/79.jpg  \n",
            "  inflating: Data Set/train/0/8.jpg  \n",
            " extracting: Data Set/train/0/80.jpg  \n",
            " extracting: Data Set/train/0/81.jpg  \n",
            " extracting: Data Set/train/0/82.jpg  \n",
            "  inflating: Data Set/train/0/83.jpg  \n",
            " extracting: Data Set/train/0/84.jpg  \n",
            "  inflating: Data Set/train/0/85.jpg  \n",
            "  inflating: Data Set/train/0/86.jpg  \n",
            " extracting: Data Set/train/0/87.jpg  \n",
            "  inflating: Data Set/train/0/88.jpg  \n",
            " extracting: Data Set/train/0/89.jpg  \n",
            "  inflating: Data Set/train/0/9.jpg  \n",
            " extracting: Data Set/train/0/90.jpg  \n",
            "  inflating: Data Set/train/0/91.jpg  \n",
            " extracting: Data Set/train/0/92.jpg  \n",
            "  inflating: Data Set/train/0/93.jpg  \n",
            " extracting: Data Set/train/0/94.jpg  \n",
            " extracting: Data Set/train/0/95.jpg  \n",
            "  inflating: Data Set/train/0/96.jpg  \n",
            "  inflating: Data Set/train/0/97.jpg  \n",
            " extracting: Data Set/train/0/98.jpg  \n",
            " extracting: Data Set/train/0/99.jpg  \n",
            "   creating: Data Set/train/1/\n",
            "  inflating: Data Set/train/1/1.jpg  \n",
            "  inflating: Data Set/train/1/10.jpg  \n",
            "  inflating: Data Set/train/1/11.jpg  \n",
            "  inflating: Data Set/train/1/12.jpg  \n",
            "  inflating: Data Set/train/1/13.jpg  \n",
            "  inflating: Data Set/train/1/14.jpg  \n",
            "  inflating: Data Set/train/1/15.jpg  \n",
            "  inflating: Data Set/train/1/16.jpg  \n",
            "  inflating: Data Set/train/1/17.jpg  \n",
            "  inflating: Data Set/train/1/18.jpg  \n",
            "  inflating: Data Set/train/1/19.jpg  \n",
            "  inflating: Data Set/train/1/2.jpg  \n",
            "  inflating: Data Set/train/1/20.jpg  \n",
            "  inflating: Data Set/train/1/21.jpg  \n",
            "  inflating: Data Set/train/1/22.jpg  \n",
            "  inflating: Data Set/train/1/23.jpg  \n",
            "  inflating: Data Set/train/1/24.jpg  \n",
            " extracting: Data Set/train/1/25.jpg  \n",
            " extracting: Data Set/train/1/26.jpg  \n",
            " extracting: Data Set/train/1/27.jpg  \n",
            " extracting: Data Set/train/1/28.jpg  \n",
            " extracting: Data Set/train/1/29.jpg  \n",
            "  inflating: Data Set/train/1/3.jpg  \n",
            "  inflating: Data Set/train/1/30.jpg  \n",
            "  inflating: Data Set/train/1/31.jpg  \n",
            " extracting: Data Set/train/1/32.jpg  \n",
            "  inflating: Data Set/train/1/33.jpg  \n",
            " extracting: Data Set/train/1/34.jpg  \n",
            " extracting: Data Set/train/1/35.jpg  \n",
            " extracting: Data Set/train/1/36.jpg  \n",
            " extracting: Data Set/train/1/37.jpg  \n",
            "  inflating: Data Set/train/1/38.jpg  \n",
            "  inflating: Data Set/train/1/39.jpg  \n",
            "  inflating: Data Set/train/1/4.jpg  \n",
            "  inflating: Data Set/train/1/40.jpg  \n",
            "  inflating: Data Set/train/1/41.jpg  \n",
            "  inflating: Data Set/train/1/42.jpg  \n",
            "  inflating: Data Set/train/1/43.jpg  \n",
            "  inflating: Data Set/train/1/44.jpg  \n",
            "  inflating: Data Set/train/1/45.jpg  \n",
            "  inflating: Data Set/train/1/46.jpg  \n",
            " extracting: Data Set/train/1/47.jpg  \n",
            " extracting: Data Set/train/1/48.jpg  \n",
            " extracting: Data Set/train/1/49.jpg  \n",
            "  inflating: Data Set/train/1/5.jpg  \n",
            " extracting: Data Set/train/1/50.jpg  \n",
            " extracting: Data Set/train/1/51.jpg  \n",
            "  inflating: Data Set/train/1/52.jpg  \n",
            "  inflating: Data Set/train/1/53.jpg  \n",
            "  inflating: Data Set/train/1/54.jpg  \n",
            " extracting: Data Set/train/1/55.jpg  \n",
            "  inflating: Data Set/train/1/56.jpg  \n",
            "  inflating: Data Set/train/1/57.jpg  \n",
            " extracting: Data Set/train/1/58.jpg  \n",
            "  inflating: Data Set/train/1/59.jpg  \n",
            "  inflating: Data Set/train/1/6.jpg  \n",
            "  inflating: Data Set/train/1/60.jpg  \n",
            " extracting: Data Set/train/1/61.jpg  \n",
            "  inflating: Data Set/train/1/62.jpg  \n",
            "  inflating: Data Set/train/1/63.jpg  \n",
            " extracting: Data Set/train/1/64.jpg  \n",
            " extracting: Data Set/train/1/65.jpg  \n",
            "  inflating: Data Set/train/1/66.jpg  \n",
            " extracting: Data Set/train/1/67.jpg  \n",
            " extracting: Data Set/train/1/68.jpg  \n",
            "  inflating: Data Set/train/1/69.jpg  \n",
            "  inflating: Data Set/train/1/7.jpg  \n",
            "  inflating: Data Set/train/1/70.jpg  \n",
            "  inflating: Data Set/train/1/71.jpg  \n",
            "  inflating: Data Set/train/1/72.jpg  \n",
            " extracting: Data Set/train/1/73.jpg  \n",
            " extracting: Data Set/train/1/74.jpg  \n",
            "  inflating: Data Set/train/1/75.jpg  \n",
            "  inflating: Data Set/train/1/76.jpg  \n",
            "  inflating: Data Set/train/1/77.jpg  \n",
            " extracting: Data Set/train/1/78.jpg  \n",
            "  inflating: Data Set/train/1/79.jpg  \n",
            "  inflating: Data Set/train/1/8.jpg  \n",
            "  inflating: Data Set/train/1/80.jpg  \n",
            " extracting: Data Set/train/1/81.jpg  \n",
            " extracting: Data Set/train/1/82.jpg  \n",
            "  inflating: Data Set/train/1/83.jpg  \n",
            " extracting: Data Set/train/1/84.jpg  \n",
            "  inflating: Data Set/train/1/85.jpg  \n",
            "  inflating: Data Set/train/1/86.jpg  \n",
            " extracting: Data Set/train/1/87.jpg  \n",
            "  inflating: Data Set/train/1/88.jpg  \n",
            "  inflating: Data Set/train/1/89.jpg  \n",
            "  inflating: Data Set/train/1/9.jpg  \n",
            "  inflating: Data Set/train/1/90.jpg  \n",
            "  inflating: Data Set/train/1/91.jpg  \n",
            " extracting: Data Set/train/1/92.jpg  \n",
            " extracting: Data Set/train/1/93.jpg  \n",
            "  inflating: Data Set/train/1/94.jpg  \n",
            "  inflating: Data Set/train/1/95.jpg  \n",
            "  inflating: Data Set/train/1/96.jpg  \n",
            "  inflating: Data Set/train/1/97.jpg  \n",
            " extracting: Data Set/train/1/98.jpg  \n",
            "  inflating: Data Set/train/1/99.jpg  \n",
            "   creating: Data Set/train/2/\n",
            "  inflating: Data Set/train/2/1.jpg  \n",
            "  inflating: Data Set/train/2/10.jpg  \n",
            "  inflating: Data Set/train/2/11.jpg  \n",
            "  inflating: Data Set/train/2/12.jpg  \n",
            "  inflating: Data Set/train/2/13.jpg  \n",
            "  inflating: Data Set/train/2/14.jpg  \n",
            "  inflating: Data Set/train/2/15.jpg  \n",
            "  inflating: Data Set/train/2/16.jpg  \n",
            "  inflating: Data Set/train/2/17.jpg  \n",
            "  inflating: Data Set/train/2/18.jpg  \n",
            "  inflating: Data Set/train/2/19.jpg  \n",
            "  inflating: Data Set/train/2/2.jpg  \n",
            "  inflating: Data Set/train/2/20.jpg  \n",
            "  inflating: Data Set/train/2/21.jpg  \n",
            "  inflating: Data Set/train/2/22.jpg  \n",
            "  inflating: Data Set/train/2/23.jpg  \n",
            "  inflating: Data Set/train/2/24.jpg  \n",
            "  inflating: Data Set/train/2/25.jpg  \n",
            "  inflating: Data Set/train/2/26.jpg  \n",
            "  inflating: Data Set/train/2/27.jpg  \n",
            "  inflating: Data Set/train/2/28.jpg  \n",
            "  inflating: Data Set/train/2/29.jpg  \n",
            "  inflating: Data Set/train/2/3.jpg  \n",
            "  inflating: Data Set/train/2/30.jpg  \n",
            "  inflating: Data Set/train/2/31.jpg  \n",
            " extracting: Data Set/train/2/32.jpg  \n",
            " extracting: Data Set/train/2/33.jpg  \n",
            " extracting: Data Set/train/2/34.jpg  \n",
            "  inflating: Data Set/train/2/35.jpg  \n",
            "  inflating: Data Set/train/2/36.jpg  \n",
            " extracting: Data Set/train/2/37.jpg  \n",
            " extracting: Data Set/train/2/38.jpg  \n",
            "  inflating: Data Set/train/2/39.jpg  \n",
            "  inflating: Data Set/train/2/4.jpg  \n",
            "  inflating: Data Set/train/2/40.jpg  \n",
            " extracting: Data Set/train/2/41.jpg  \n",
            "  inflating: Data Set/train/2/42.jpg  \n",
            " extracting: Data Set/train/2/43.jpg  \n",
            "  inflating: Data Set/train/2/44.jpg  \n",
            "  inflating: Data Set/train/2/45.jpg  \n",
            " extracting: Data Set/train/2/46.jpg  \n",
            "  inflating: Data Set/train/2/47.jpg  \n",
            "  inflating: Data Set/train/2/48.jpg  \n",
            "  inflating: Data Set/train/2/49.jpg  \n",
            "  inflating: Data Set/train/2/5.jpg  \n",
            " extracting: Data Set/train/2/50.jpg  \n",
            "  inflating: Data Set/train/2/51.jpg  \n",
            "  inflating: Data Set/train/2/52.jpg  \n",
            " extracting: Data Set/train/2/53.jpg  \n",
            "  inflating: Data Set/train/2/54.jpg  \n",
            " extracting: Data Set/train/2/55.jpg  \n",
            "  inflating: Data Set/train/2/56.jpg  \n",
            "  inflating: Data Set/train/2/57.jpg  \n",
            " extracting: Data Set/train/2/58.jpg  \n",
            "  inflating: Data Set/train/2/59.jpg  \n",
            "  inflating: Data Set/train/2/6.jpg  \n",
            "  inflating: Data Set/train/2/60.jpg  \n",
            "  inflating: Data Set/train/2/61.jpg  \n",
            "  inflating: Data Set/train/2/62.jpg  \n",
            "  inflating: Data Set/train/2/63.jpg  \n",
            "  inflating: Data Set/train/2/64.jpg  \n",
            "  inflating: Data Set/train/2/65.jpg  \n",
            "  inflating: Data Set/train/2/66.jpg  \n",
            "  inflating: Data Set/train/2/67.jpg  \n",
            "  inflating: Data Set/train/2/68.jpg  \n",
            "  inflating: Data Set/train/2/69.jpg  \n",
            "  inflating: Data Set/train/2/7.jpg  \n",
            "  inflating: Data Set/train/2/70.jpg  \n",
            "  inflating: Data Set/train/2/71.jpg  \n",
            "  inflating: Data Set/train/2/72.jpg  \n",
            "  inflating: Data Set/train/2/73.jpg  \n",
            "  inflating: Data Set/train/2/74.jpg  \n",
            "  inflating: Data Set/train/2/75.jpg  \n",
            " extracting: Data Set/train/2/76.jpg  \n",
            "  inflating: Data Set/train/2/77.jpg  \n",
            "  inflating: Data Set/train/2/78.jpg  \n",
            "  inflating: Data Set/train/2/79.jpg  \n",
            "  inflating: Data Set/train/2/8.jpg  \n",
            "  inflating: Data Set/train/2/80.jpg  \n",
            "  inflating: Data Set/train/2/81.jpg  \n",
            "  inflating: Data Set/train/2/82.jpg  \n",
            " extracting: Data Set/train/2/83.jpg  \n",
            " extracting: Data Set/train/2/84.jpg  \n",
            "  inflating: Data Set/train/2/85.jpg  \n",
            "  inflating: Data Set/train/2/86.jpg  \n",
            "  inflating: Data Set/train/2/87.jpg  \n",
            " extracting: Data Set/train/2/88.jpg  \n",
            "  inflating: Data Set/train/2/89.jpg  \n",
            "  inflating: Data Set/train/2/9.jpg  \n",
            " extracting: Data Set/train/2/90.jpg  \n",
            "  inflating: Data Set/train/2/91.jpg  \n",
            " extracting: Data Set/train/2/92.jpg  \n",
            " extracting: Data Set/train/2/93.jpg  \n",
            "  inflating: Data Set/train/2/94.jpg  \n",
            " extracting: Data Set/train/2/95.jpg  \n",
            "  inflating: Data Set/train/2/96.jpg  \n",
            "  inflating: Data Set/train/2/97.jpg  \n",
            "  inflating: Data Set/train/2/98.jpg  \n",
            "  inflating: Data Set/train/2/99.jpg  \n",
            "   creating: Data Set/train/3/\n",
            "  inflating: Data Set/train/3/1.jpg  \n",
            "  inflating: Data Set/train/3/10.jpg  \n",
            "  inflating: Data Set/train/3/11.jpg  \n",
            "  inflating: Data Set/train/3/12.jpg  \n",
            "  inflating: Data Set/train/3/13.jpg  \n",
            "  inflating: Data Set/train/3/14.jpg  \n",
            "  inflating: Data Set/train/3/15.jpg  \n",
            "  inflating: Data Set/train/3/16.jpg  \n",
            "  inflating: Data Set/train/3/17.jpg  \n",
            "  inflating: Data Set/train/3/18.jpg  \n",
            "  inflating: Data Set/train/3/19.jpg  \n",
            "  inflating: Data Set/train/3/2.jpg  \n",
            "  inflating: Data Set/train/3/20.jpg  \n",
            "  inflating: Data Set/train/3/21.jpg  \n",
            "  inflating: Data Set/train/3/22.jpg  \n",
            "  inflating: Data Set/train/3/23.jpg  \n",
            "  inflating: Data Set/train/3/24.jpg  \n",
            " extracting: Data Set/train/3/25.jpg  \n",
            "  inflating: Data Set/train/3/26.jpg  \n",
            "  inflating: Data Set/train/3/27.jpg  \n",
            " extracting: Data Set/train/3/28.jpg  \n",
            " extracting: Data Set/train/3/29.jpg  \n",
            "  inflating: Data Set/train/3/3.jpg  \n",
            "  inflating: Data Set/train/3/30.jpg  \n",
            "  inflating: Data Set/train/3/31.jpg  \n",
            "  inflating: Data Set/train/3/32.jpg  \n",
            "  inflating: Data Set/train/3/33.jpg  \n",
            "  inflating: Data Set/train/3/34.jpg  \n",
            "  inflating: Data Set/train/3/35.jpg  \n",
            "  inflating: Data Set/train/3/36.jpg  \n",
            "  inflating: Data Set/train/3/37.jpg  \n",
            "  inflating: Data Set/train/3/38.jpg  \n",
            "  inflating: Data Set/train/3/39.jpg  \n",
            "  inflating: Data Set/train/3/4.jpg  \n",
            "  inflating: Data Set/train/3/40.jpg  \n",
            "  inflating: Data Set/train/3/41.jpg  \n",
            " extracting: Data Set/train/3/42.jpg  \n",
            "  inflating: Data Set/train/3/43.jpg  \n",
            "  inflating: Data Set/train/3/44.jpg  \n",
            "  inflating: Data Set/train/3/45.jpg  \n",
            "  inflating: Data Set/train/3/46.jpg  \n",
            "  inflating: Data Set/train/3/47.jpg  \n",
            "  inflating: Data Set/train/3/48.jpg  \n",
            "  inflating: Data Set/train/3/49.jpg  \n",
            "  inflating: Data Set/train/3/5.jpg  \n",
            "  inflating: Data Set/train/3/50.jpg  \n",
            " extracting: Data Set/train/3/51.jpg  \n",
            "  inflating: Data Set/train/3/52.jpg  \n",
            "  inflating: Data Set/train/3/53.jpg  \n",
            "  inflating: Data Set/train/3/54.jpg  \n",
            "  inflating: Data Set/train/3/55.jpg  \n",
            "  inflating: Data Set/train/3/56.jpg  \n",
            "  inflating: Data Set/train/3/57.jpg  \n",
            "  inflating: Data Set/train/3/58.jpg  \n",
            " extracting: Data Set/train/3/59.jpg  \n",
            "  inflating: Data Set/train/3/6.jpg  \n",
            "  inflating: Data Set/train/3/60.jpg  \n",
            "  inflating: Data Set/train/3/61.jpg  \n",
            "  inflating: Data Set/train/3/62.jpg  \n",
            " extracting: Data Set/train/3/63.jpg  \n",
            " extracting: Data Set/train/3/64.jpg  \n",
            "  inflating: Data Set/train/3/65.jpg  \n",
            " extracting: Data Set/train/3/66.jpg  \n",
            "  inflating: Data Set/train/3/67.jpg  \n",
            "  inflating: Data Set/train/3/68.jpg  \n",
            "  inflating: Data Set/train/3/69.jpg  \n",
            "  inflating: Data Set/train/3/7.jpg  \n",
            "  inflating: Data Set/train/3/70.jpg  \n",
            " extracting: Data Set/train/3/71.jpg  \n",
            " extracting: Data Set/train/3/72.jpg  \n",
            "  inflating: Data Set/train/3/73.jpg  \n",
            "  inflating: Data Set/train/3/74.jpg  \n",
            "  inflating: Data Set/train/3/75.jpg  \n",
            "  inflating: Data Set/train/3/76.jpg  \n",
            " extracting: Data Set/train/3/77.jpg  \n",
            " extracting: Data Set/train/3/78.jpg  \n",
            "  inflating: Data Set/train/3/79.jpg  \n",
            "  inflating: Data Set/train/3/8.jpg  \n",
            "  inflating: Data Set/train/3/80.jpg  \n",
            "  inflating: Data Set/train/3/81.jpg  \n",
            "  inflating: Data Set/train/3/82.jpg  \n",
            "  inflating: Data Set/train/3/83.jpg  \n",
            " extracting: Data Set/train/3/84.jpg  \n",
            " extracting: Data Set/train/3/85.jpg  \n",
            "  inflating: Data Set/train/3/86.jpg  \n",
            "  inflating: Data Set/train/3/87.jpg  \n",
            "  inflating: Data Set/train/3/88.jpg  \n",
            "  inflating: Data Set/train/3/89.jpg  \n",
            "  inflating: Data Set/train/3/9.jpg  \n",
            "  inflating: Data Set/train/3/90.jpg  \n",
            "  inflating: Data Set/train/3/91.jpg  \n",
            "  inflating: Data Set/train/3/92.jpg  \n",
            "  inflating: Data Set/train/3/93.jpg  \n",
            "  inflating: Data Set/train/3/94.jpg  \n",
            "  inflating: Data Set/train/3/95.jpg  \n",
            "  inflating: Data Set/train/3/96.jpg  \n",
            " extracting: Data Set/train/3/97.jpg  \n",
            " extracting: Data Set/train/3/98.jpg  \n",
            "  inflating: Data Set/train/3/99.jpg  \n",
            "   creating: Data Set/train/4/\n",
            "  inflating: Data Set/train/4/1.jpg  \n",
            "  inflating: Data Set/train/4/10.jpg  \n",
            "  inflating: Data Set/train/4/11.jpg  \n",
            "  inflating: Data Set/train/4/12.jpg  \n",
            "  inflating: Data Set/train/4/13.jpg  \n",
            "  inflating: Data Set/train/4/14.jpg  \n",
            "  inflating: Data Set/train/4/15.jpg  \n",
            "  inflating: Data Set/train/4/16.jpg  \n",
            "  inflating: Data Set/train/4/17.jpg  \n",
            "  inflating: Data Set/train/4/18.jpg  \n",
            "  inflating: Data Set/train/4/19.jpg  \n",
            "  inflating: Data Set/train/4/2.jpg  \n",
            "  inflating: Data Set/train/4/20.jpg  \n",
            "  inflating: Data Set/train/4/21.jpg  \n",
            "  inflating: Data Set/train/4/22.jpg  \n",
            "  inflating: Data Set/train/4/23.jpg  \n",
            "  inflating: Data Set/train/4/24.jpg  \n",
            "  inflating: Data Set/train/4/25.jpg  \n",
            " extracting: Data Set/train/4/26.jpg  \n",
            "  inflating: Data Set/train/4/27.jpg  \n",
            " extracting: Data Set/train/4/28.jpg  \n",
            "  inflating: Data Set/train/4/29.jpg  \n",
            "  inflating: Data Set/train/4/3.jpg  \n",
            "  inflating: Data Set/train/4/30.jpg  \n",
            "  inflating: Data Set/train/4/31.jpg  \n",
            "  inflating: Data Set/train/4/32.jpg  \n",
            "  inflating: Data Set/train/4/33.jpg  \n",
            "  inflating: Data Set/train/4/34.jpg  \n",
            "  inflating: Data Set/train/4/35.jpg  \n",
            "  inflating: Data Set/train/4/36.jpg  \n",
            "  inflating: Data Set/train/4/37.jpg  \n",
            "  inflating: Data Set/train/4/38.jpg  \n",
            "  inflating: Data Set/train/4/39.jpg  \n",
            "  inflating: Data Set/train/4/4.jpg  \n",
            "  inflating: Data Set/train/4/40.jpg  \n",
            "  inflating: Data Set/train/4/41.jpg  \n",
            "  inflating: Data Set/train/4/42.jpg  \n",
            "  inflating: Data Set/train/4/43.jpg  \n",
            "  inflating: Data Set/train/4/44.jpg  \n",
            "  inflating: Data Set/train/4/45.jpg  \n",
            "  inflating: Data Set/train/4/46.jpg  \n",
            "  inflating: Data Set/train/4/47.jpg  \n",
            "  inflating: Data Set/train/4/48.jpg  \n",
            " extracting: Data Set/train/4/49.jpg  \n",
            "  inflating: Data Set/train/4/5.jpg  \n",
            "  inflating: Data Set/train/4/50.jpg  \n",
            " extracting: Data Set/train/4/51.jpg  \n",
            "  inflating: Data Set/train/4/52.jpg  \n",
            " extracting: Data Set/train/4/53.jpg  \n",
            "  inflating: Data Set/train/4/54.jpg  \n",
            "  inflating: Data Set/train/4/55.jpg  \n",
            " extracting: Data Set/train/4/56.jpg  \n",
            "  inflating: Data Set/train/4/57.jpg  \n",
            "  inflating: Data Set/train/4/58.jpg  \n",
            " extracting: Data Set/train/4/59.jpg  \n",
            "  inflating: Data Set/train/4/6.jpg  \n",
            "  inflating: Data Set/train/4/60.jpg  \n",
            "  inflating: Data Set/train/4/61.jpg  \n",
            "  inflating: Data Set/train/4/62.jpg  \n",
            "  inflating: Data Set/train/4/63.jpg  \n",
            "  inflating: Data Set/train/4/64.jpg  \n",
            "  inflating: Data Set/train/4/65.jpg  \n",
            " extracting: Data Set/train/4/66.jpg  \n",
            "  inflating: Data Set/train/4/67.jpg  \n",
            "  inflating: Data Set/train/4/68.jpg  \n",
            "  inflating: Data Set/train/4/69.jpg  \n",
            "  inflating: Data Set/train/4/7.jpg  \n",
            "  inflating: Data Set/train/4/70.jpg  \n",
            " extracting: Data Set/train/4/71.jpg  \n",
            "  inflating: Data Set/train/4/72.jpg  \n",
            " extracting: Data Set/train/4/73.jpg  \n",
            "  inflating: Data Set/train/4/74.jpg  \n",
            "  inflating: Data Set/train/4/75.jpg  \n",
            "  inflating: Data Set/train/4/76.jpg  \n",
            "  inflating: Data Set/train/4/77.jpg  \n",
            "  inflating: Data Set/train/4/78.jpg  \n",
            "  inflating: Data Set/train/4/79.jpg  \n",
            "  inflating: Data Set/train/4/8.jpg  \n",
            "  inflating: Data Set/train/4/80.jpg  \n",
            " extracting: Data Set/train/4/81.jpg  \n",
            "  inflating: Data Set/train/4/82.jpg  \n",
            "  inflating: Data Set/train/4/83.jpg  \n",
            "  inflating: Data Set/train/4/84.jpg  \n",
            "  inflating: Data Set/train/4/85.jpg  \n",
            "  inflating: Data Set/train/4/86.jpg  \n",
            "  inflating: Data Set/train/4/87.jpg  \n",
            "  inflating: Data Set/train/4/88.jpg  \n",
            "  inflating: Data Set/train/4/89.jpg  \n",
            "  inflating: Data Set/train/4/9.jpg  \n",
            "  inflating: Data Set/train/4/90.jpg  \n",
            "  inflating: Data Set/train/4/91.jpg  \n",
            "  inflating: Data Set/train/4/92.jpg  \n",
            "  inflating: Data Set/train/4/93.jpg  \n",
            "  inflating: Data Set/train/4/94.jpg  \n",
            "  inflating: Data Set/train/4/95.jpg  \n",
            "  inflating: Data Set/train/4/96.jpg  \n",
            "  inflating: Data Set/train/4/97.jpg  \n",
            "  inflating: Data Set/train/4/98.jpg  \n",
            "  inflating: Data Set/train/4/99.jpg  \n",
            "   creating: Data Set/train/5/\n",
            "  inflating: Data Set/train/5/1.jpg  \n",
            "  inflating: Data Set/train/5/10.jpg  \n",
            "  inflating: Data Set/train/5/11.jpg  \n",
            "  inflating: Data Set/train/5/12.jpg  \n",
            "  inflating: Data Set/train/5/13.jpg  \n",
            "  inflating: Data Set/train/5/14.jpg  \n",
            "  inflating: Data Set/train/5/15.jpg  \n",
            "  inflating: Data Set/train/5/16.jpg  \n",
            "  inflating: Data Set/train/5/17.jpg  \n",
            "  inflating: Data Set/train/5/18.jpg  \n",
            "  inflating: Data Set/train/5/19.jpg  \n",
            "  inflating: Data Set/train/5/2.jpg  \n",
            "  inflating: Data Set/train/5/20.jpg  \n",
            "  inflating: Data Set/train/5/21.jpg  \n",
            "  inflating: Data Set/train/5/22.jpg  \n",
            "  inflating: Data Set/train/5/23.jpg  \n",
            "  inflating: Data Set/train/5/24.jpg  \n",
            "  inflating: Data Set/train/5/25.jpg  \n",
            "  inflating: Data Set/train/5/26.jpg  \n",
            "  inflating: Data Set/train/5/27.jpg  \n",
            "  inflating: Data Set/train/5/28.jpg  \n",
            "  inflating: Data Set/train/5/29.jpg  \n",
            "  inflating: Data Set/train/5/3.jpg  \n",
            "  inflating: Data Set/train/5/30.jpg  \n",
            "  inflating: Data Set/train/5/31.jpg  \n",
            "  inflating: Data Set/train/5/32.jpg  \n",
            "  inflating: Data Set/train/5/33.jpg  \n",
            "  inflating: Data Set/train/5/34.jpg  \n",
            "  inflating: Data Set/train/5/35.jpg  \n",
            "  inflating: Data Set/train/5/36.jpg  \n",
            "  inflating: Data Set/train/5/37.jpg  \n",
            "  inflating: Data Set/train/5/38.jpg  \n",
            "  inflating: Data Set/train/5/39.jpg  \n",
            "  inflating: Data Set/train/5/4.jpg  \n",
            "  inflating: Data Set/train/5/40.jpg  \n",
            "  inflating: Data Set/train/5/41.jpg  \n",
            "  inflating: Data Set/train/5/42.jpg  \n",
            "  inflating: Data Set/train/5/43.jpg  \n",
            "  inflating: Data Set/train/5/44.jpg  \n",
            "  inflating: Data Set/train/5/45.jpg  \n",
            " extracting: Data Set/train/5/46.jpg  \n",
            "  inflating: Data Set/train/5/47.jpg  \n",
            "  inflating: Data Set/train/5/48.jpg  \n",
            "  inflating: Data Set/train/5/49.jpg  \n",
            "  inflating: Data Set/train/5/5.jpg  \n",
            "  inflating: Data Set/train/5/50.jpg  \n",
            "  inflating: Data Set/train/5/51.jpg  \n",
            "  inflating: Data Set/train/5/52.jpg  \n",
            " extracting: Data Set/train/5/53.jpg  \n",
            "  inflating: Data Set/train/5/54.jpg  \n",
            "  inflating: Data Set/train/5/55.jpg  \n",
            "  inflating: Data Set/train/5/56.jpg  \n",
            "  inflating: Data Set/train/5/57.jpg  \n",
            "  inflating: Data Set/train/5/58.jpg  \n",
            "  inflating: Data Set/train/5/59.jpg  \n",
            "  inflating: Data Set/train/5/6.jpg  \n",
            " extracting: Data Set/train/5/60.jpg  \n",
            "  inflating: Data Set/train/5/61.jpg  \n",
            "  inflating: Data Set/train/5/62.jpg  \n",
            "  inflating: Data Set/train/5/63.jpg  \n",
            " extracting: Data Set/train/5/64.jpg  \n",
            " extracting: Data Set/train/5/65.jpg  \n",
            "  inflating: Data Set/train/5/66.jpg  \n",
            "  inflating: Data Set/train/5/67.jpg  \n",
            "  inflating: Data Set/train/5/68.jpg  \n",
            "  inflating: Data Set/train/5/69.jpg  \n",
            "  inflating: Data Set/train/5/7.jpg  \n",
            "  inflating: Data Set/train/5/70.jpg  \n",
            "  inflating: Data Set/train/5/71.jpg  \n",
            "  inflating: Data Set/train/5/72.jpg  \n",
            "  inflating: Data Set/train/5/73.jpg  \n",
            " extracting: Data Set/train/5/74.jpg  \n",
            "  inflating: Data Set/train/5/75.jpg  \n",
            "  inflating: Data Set/train/5/76.jpg  \n",
            "  inflating: Data Set/train/5/77.jpg  \n",
            "  inflating: Data Set/train/5/78.jpg  \n",
            "  inflating: Data Set/train/5/79.jpg  \n",
            "  inflating: Data Set/train/5/8.jpg  \n",
            "  inflating: Data Set/train/5/80.jpg  \n",
            "  inflating: Data Set/train/5/81.jpg  \n",
            "  inflating: Data Set/train/5/82.jpg  \n",
            " extracting: Data Set/train/5/83.jpg  \n",
            "  inflating: Data Set/train/5/84.jpg  \n",
            "  inflating: Data Set/train/5/85.jpg  \n",
            "  inflating: Data Set/train/5/86.jpg  \n",
            "  inflating: Data Set/train/5/87.jpg  \n",
            "  inflating: Data Set/train/5/88.jpg  \n",
            "  inflating: Data Set/train/5/89.jpg  \n",
            "  inflating: Data Set/train/5/9.jpg  \n",
            "  inflating: Data Set/train/5/90.jpg  \n",
            " extracting: Data Set/train/5/91.jpg  \n",
            "  inflating: Data Set/train/5/92.jpg  \n",
            "  inflating: Data Set/train/5/93.jpg  \n",
            "  inflating: Data Set/train/5/94.jpg  \n",
            "  inflating: Data Set/train/5/95.jpg  \n",
            "  inflating: Data Set/train/5/96.jpg  \n",
            "  inflating: Data Set/train/5/97.jpg  \n",
            " extracting: Data Set/train/5/98.jpg  \n",
            "  inflating: Data Set/train/5/99.jpg  \n"
          ]
        }
      ]
    },
    {
      "cell_type": "code",
      "execution_count": null,
      "id": "0a4dce4b",
      "metadata": {
        "id": "0a4dce4b"
      },
      "outputs": [],
      "source": [
        "import numpy as np\n",
        "import tensorflow as tf\n",
        "from tensorflow.keras.models import Sequential \n",
        "from tensorflow.keras.layers import Dense,Flatten, Dropout\n",
        "from tensorflow.keras.layers import Convolution2D,MaxPooling2D  \n",
        "from tensorflow.keras.preprocessing.image import ImageDataGenerator\n",
        "from tensorflow.keras.models import Model\n"
      ]
    },
    {
      "cell_type": "code",
      "execution_count": null,
      "id": "758391ca",
      "metadata": {
        "id": "758391ca"
      },
      "outputs": [],
      "source": [
        "traindata = ImageDataGenerator(rescale=1./255,shear_range=0.2,zoom_range=0.2,horizontal_flip=True)\n",
        "testdata = ImageDataGenerator(rescale=1./255)"
      ]
    },
    {
      "cell_type": "code",
      "execution_count": null,
      "id": "7c1fecc6",
      "metadata": {
        "colab": {
          "base_uri": "https://localhost:8080/"
        },
        "id": "7c1fecc6",
        "outputId": "e61651a7-b998-4455-e60f-5f5a8cfd48a4"
      },
      "outputs": [
        {
          "output_type": "stream",
          "name": "stdout",
          "text": [
            "Found 594 images belonging to 6 classes.\n",
            "Found 30 images belonging to 6 classes.\n"
          ]
        }
      ],
      "source": [
        "train = traindata.flow_from_directory(r\"/content/Data Set/train\",target_size=(64, 64),batch_size=3,color_mode='grayscale',class_mode='categorical')\n",
        "test = testdata.flow_from_directory(r\"/content/Data Set/test\",target_size=(64, 64),batch_size=3,color_mode='grayscale',class_mode='categorical') "
      ]
    },
    {
      "cell_type": "code",
      "execution_count": null,
      "id": "75467194",
      "metadata": {
        "id": "75467194",
        "outputId": "958e63fd-450d-4229-9154-8841941a16e4",
        "colab": {
          "base_uri": "https://localhost:8080/"
        }
      },
      "outputs": [
        {
          "output_type": "stream",
          "name": "stdout",
          "text": [
            "{'0': 0, '1': 1, '2': 2, '3': 3, '4': 4, '5': 5}\n"
          ]
        }
      ],
      "source": [
        "print(train.class_indices)"
      ]
    },
    {
      "cell_type": "code",
      "execution_count": null,
      "id": "fa455937",
      "metadata": {
        "id": "fa455937"
      },
      "outputs": [],
      "source": [
        "model = Sequential()"
      ]
    },
    {
      "cell_type": "code",
      "execution_count": null,
      "id": "6698318d",
      "metadata": {
        "id": "6698318d"
      },
      "outputs": [],
      "source": [
        "model.add(Convolution2D(32, (3, 3), input_shape=(64, 64, 1), activation='relu'))\n",
        "model.add(MaxPooling2D(pool_size=(2, 2)))"
      ]
    },
    {
      "cell_type": "code",
      "execution_count": null,
      "id": "c5acfede",
      "metadata": {
        "id": "c5acfede"
      },
      "outputs": [],
      "source": [
        "model.add(Convolution2D(32, (3, 3), activation='relu'))\n",
        "model.add(MaxPooling2D(pool_size=(2,2)))"
      ]
    },
    {
      "cell_type": "code",
      "execution_count": null,
      "id": "760c9239",
      "metadata": {
        "id": "760c9239"
      },
      "outputs": [],
      "source": [
        "model.add(Flatten())"
      ]
    },
    {
      "cell_type": "code",
      "execution_count": null,
      "id": "afa18812",
      "metadata": {
        "id": "afa18812"
      },
      "outputs": [],
      "source": [
        "model.add(Dense(units=512 , activation='relu'))"
      ]
    },
    {
      "cell_type": "code",
      "execution_count": null,
      "id": "aaad84a1",
      "metadata": {
        "id": "aaad84a1"
      },
      "outputs": [],
      "source": [
        "model.add(Dense(units=6, activation='softmax')) "
      ]
    },
    {
      "cell_type": "code",
      "execution_count": null,
      "id": "2b6ad3ee",
      "metadata": {
        "id": "2b6ad3ee",
        "outputId": "209b571f-6472-48b5-b86d-84acfc180d47",
        "colab": {
          "base_uri": "https://localhost:8080/"
        }
      },
      "outputs": [
        {
          "output_type": "stream",
          "name": "stdout",
          "text": [
            "Model: \"sequential\"\n",
            "_________________________________________________________________\n",
            " Layer (type)                Output Shape              Param #   \n",
            "=================================================================\n",
            " conv2d (Conv2D)             (None, 62, 62, 32)        320       \n",
            "                                                                 \n",
            " max_pooling2d (MaxPooling2D  (None, 31, 31, 32)       0         \n",
            " )                                                               \n",
            "                                                                 \n",
            " conv2d_1 (Conv2D)           (None, 29, 29, 32)        9248      \n",
            "                                                                 \n",
            " max_pooling2d_1 (MaxPooling  (None, 14, 14, 32)       0         \n",
            " 2D)                                                             \n",
            "                                                                 \n",
            " flatten (Flatten)           (None, 6272)              0         \n",
            "                                                                 \n",
            " dense (Dense)               (None, 512)               3211776   \n",
            "                                                                 \n",
            " dense_1 (Dense)             (None, 6)                 3078      \n",
            "                                                                 \n",
            "=================================================================\n",
            "Total params: 3,224,422\n",
            "Trainable params: 3,224,422\n",
            "Non-trainable params: 0\n",
            "_________________________________________________________________\n"
          ]
        }
      ],
      "source": [
        "model.summary()"
      ]
    },
    {
      "cell_type": "code",
      "execution_count": null,
      "id": "422fb6c0",
      "metadata": {
        "id": "422fb6c0"
      },
      "outputs": [],
      "source": [
        "model.compile(optimizer='adam', loss='categorical_crossentropy', metrics=['accuracy']) "
      ]
    },
    {
      "cell_type": "code",
      "execution_count": null,
      "id": "d0298778",
      "metadata": {
        "id": "d0298778",
        "outputId": "9cd7c7bc-2259-4ac4-aeb6-ddbcbd8c170b",
        "colab": {
          "base_uri": "https://localhost:8080/"
        }
      },
      "outputs": [
        {
          "output_type": "stream",
          "name": "stdout",
          "text": [
            "Epoch 1/25\n",
            "198/198 [==============================] - 7s 34ms/step - loss: 1.3182 - accuracy: 0.4731 - val_loss: 0.7131 - val_accuracy: 0.6667\n",
            "Epoch 2/25\n",
            "198/198 [==============================] - 7s 33ms/step - loss: 0.6174 - accuracy: 0.7576 - val_loss: 0.5878 - val_accuracy: 0.7667\n",
            "Epoch 3/25\n",
            "198/198 [==============================] - 7s 34ms/step - loss: 0.3630 - accuracy: 0.8502 - val_loss: 0.8042 - val_accuracy: 0.7333\n",
            "Epoch 4/25\n",
            "198/198 [==============================] - 7s 34ms/step - loss: 0.2901 - accuracy: 0.8939 - val_loss: 0.3793 - val_accuracy: 0.9000\n",
            "Epoch 5/25\n",
            "198/198 [==============================] - 7s 34ms/step - loss: 0.1839 - accuracy: 0.9259 - val_loss: 0.2383 - val_accuracy: 0.9333\n",
            "Epoch 6/25\n",
            "198/198 [==============================] - 7s 34ms/step - loss: 0.1547 - accuracy: 0.9444 - val_loss: 0.2046 - val_accuracy: 0.8667\n",
            "Epoch 7/25\n",
            "198/198 [==============================] - 7s 34ms/step - loss: 0.1177 - accuracy: 0.9512 - val_loss: 0.3603 - val_accuracy: 0.9000\n",
            "Epoch 8/25\n",
            "198/198 [==============================] - 7s 34ms/step - loss: 0.0878 - accuracy: 0.9731 - val_loss: 0.3200 - val_accuracy: 0.8667\n",
            "Epoch 9/25\n",
            "198/198 [==============================] - 7s 34ms/step - loss: 0.1056 - accuracy: 0.9613 - val_loss: 0.2862 - val_accuracy: 0.9333\n",
            "Epoch 10/25\n",
            "198/198 [==============================] - 7s 33ms/step - loss: 0.1108 - accuracy: 0.9680 - val_loss: 0.2498 - val_accuracy: 0.9667\n",
            "Epoch 11/25\n",
            "198/198 [==============================] - 7s 34ms/step - loss: 0.0722 - accuracy: 0.9697 - val_loss: 0.2355 - val_accuracy: 0.9667\n",
            "Epoch 12/25\n",
            "198/198 [==============================] - 7s 33ms/step - loss: 0.0284 - accuracy: 0.9933 - val_loss: 0.2855 - val_accuracy: 0.9333\n",
            "Epoch 13/25\n",
            "198/198 [==============================] - 7s 34ms/step - loss: 0.1348 - accuracy: 0.9646 - val_loss: 0.3068 - val_accuracy: 0.9333\n",
            "Epoch 14/25\n",
            "198/198 [==============================] - 7s 33ms/step - loss: 0.0462 - accuracy: 0.9865 - val_loss: 0.2538 - val_accuracy: 0.9333\n",
            "Epoch 15/25\n",
            "198/198 [==============================] - 7s 33ms/step - loss: 0.0474 - accuracy: 0.9714 - val_loss: 0.2672 - val_accuracy: 0.9333\n",
            "Epoch 16/25\n",
            "198/198 [==============================] - 7s 33ms/step - loss: 0.0828 - accuracy: 0.9731 - val_loss: 0.2400 - val_accuracy: 0.9333\n",
            "Epoch 17/25\n",
            "198/198 [==============================] - 7s 33ms/step - loss: 0.0354 - accuracy: 0.9899 - val_loss: 0.1490 - val_accuracy: 0.9667\n",
            "Epoch 18/25\n",
            "198/198 [==============================] - 7s 33ms/step - loss: 0.0111 - accuracy: 0.9966 - val_loss: 0.2738 - val_accuracy: 0.9667\n",
            "Epoch 19/25\n",
            "198/198 [==============================] - 6s 33ms/step - loss: 0.0598 - accuracy: 0.9747 - val_loss: 0.2337 - val_accuracy: 0.9333\n",
            "Epoch 20/25\n",
            "198/198 [==============================] - 7s 33ms/step - loss: 0.0234 - accuracy: 0.9882 - val_loss: 0.2338 - val_accuracy: 0.9667\n",
            "Epoch 21/25\n",
            "198/198 [==============================] - 7s 33ms/step - loss: 0.0094 - accuracy: 0.9983 - val_loss: 0.1385 - val_accuracy: 0.9667\n",
            "Epoch 22/25\n",
            "198/198 [==============================] - 7s 37ms/step - loss: 0.0464 - accuracy: 0.9848 - val_loss: 0.1625 - val_accuracy: 0.9667\n",
            "Epoch 23/25\n",
            "198/198 [==============================] - 7s 33ms/step - loss: 0.0397 - accuracy: 0.9848 - val_loss: 0.1474 - val_accuracy: 0.9333\n",
            "Epoch 24/25\n",
            "198/198 [==============================] - 7s 33ms/step - loss: 0.0849 - accuracy: 0.9731 - val_loss: 0.4239 - val_accuracy: 0.9333\n",
            "Epoch 25/25\n",
            "198/198 [==============================] - 7s 33ms/step - loss: 0.0436 - accuracy: 0.9865 - val_loss: 0.5118 - val_accuracy: 0.9000\n"
          ]
        },
        {
          "output_type": "execute_result",
          "data": {
            "text/plain": [
              "<keras.callbacks.History at 0x7f302fbe8490>"
            ]
          },
          "metadata": {},
          "execution_count": 14
        }
      ],
      "source": [
        "model.fit(train,steps_per_epoch = 594/3 , epochs = 25, validation_data = test,validation_steps = 30/3 )"
      ]
    },
    {
      "cell_type": "code",
      "execution_count": null,
      "id": "50adf5c6",
      "metadata": {
        "id": "50adf5c6"
      },
      "outputs": [],
      "source": [
        "model.save('Hand.h5')"
      ]
    },
    {
      "cell_type": "code",
      "execution_count": null,
      "id": "bf341313",
      "metadata": {
        "id": "bf341313"
      },
      "outputs": [],
      "source": [
        "model_json = model.to_json()\n",
        "with open(\"model-bw.json\", \"w\") as json_file:\n",
        "    json_file.write(model_json)"
      ]
    },
    {
      "cell_type": "code",
      "source": [
        "!tar -zcvf hand-gesture.tgz Hand.h5"
      ],
      "metadata": {
        "colab": {
          "base_uri": "https://localhost:8080/"
        },
        "id": "bL4hzIsOW20_",
        "outputId": "200922c7-8414-41f6-f690-9b131ca445f5"
      },
      "id": "bL4hzIsOW20_",
      "execution_count": null,
      "outputs": [
        {
          "output_type": "stream",
          "name": "stdout",
          "text": [
            "Hand.h5\n"
          ]
        }
      ]
    },
    {
      "cell_type": "code",
      "source": [
        "!pip install watson-machine-learning-client"
      ],
      "metadata": {
        "colab": {
          "base_uri": "https://localhost:8080/",
          "height": 1000
        },
        "id": "AJWv-S7SXtf5",
        "outputId": "91759a4e-93c4-420d-b492-27a33922b536"
      },
      "id": "AJWv-S7SXtf5",
      "execution_count": null,
      "outputs": [
        {
          "output_type": "stream",
          "name": "stdout",
          "text": [
            "Looking in indexes: https://pypi.org/simple, https://us-python.pkg.dev/colab-wheels/public/simple/\n",
            "Collecting watson-machine-learning-client\n",
            "  Downloading watson_machine_learning_client-1.0.391-py3-none-any.whl (538 kB)\n",
            "\u001b[K     |████████████████████████████████| 538 kB 14.5 MB/s \n",
            "\u001b[?25hRequirement already satisfied: tabulate in /usr/local/lib/python3.7/dist-packages (from watson-machine-learning-client) (0.8.10)\n",
            "Requirement already satisfied: requests in /usr/local/lib/python3.7/dist-packages (from watson-machine-learning-client) (2.23.0)\n",
            "Requirement already satisfied: tqdm in /usr/local/lib/python3.7/dist-packages (from watson-machine-learning-client) (4.64.1)\n",
            "Requirement already satisfied: urllib3 in /usr/local/lib/python3.7/dist-packages (from watson-machine-learning-client) (1.24.3)\n",
            "Collecting lomond\n",
            "  Downloading lomond-0.3.3-py2.py3-none-any.whl (35 kB)\n",
            "Collecting boto3\n",
            "  Downloading boto3-1.25.5-py3-none-any.whl (132 kB)\n",
            "\u001b[K     |████████████████████████████████| 132 kB 67.6 MB/s \n",
            "\u001b[?25hCollecting ibm-cos-sdk\n",
            "  Downloading ibm-cos-sdk-2.12.0.tar.gz (55 kB)\n",
            "\u001b[K     |████████████████████████████████| 55 kB 3.3 MB/s \n",
            "\u001b[?25hRequirement already satisfied: pandas in /usr/local/lib/python3.7/dist-packages (from watson-machine-learning-client) (1.3.5)\n",
            "Requirement already satisfied: certifi in /usr/local/lib/python3.7/dist-packages (from watson-machine-learning-client) (2022.9.24)\n",
            "Collecting botocore<1.29.0,>=1.28.5\n",
            "  Downloading botocore-1.28.5-py3-none-any.whl (9.3 MB)\n",
            "\u001b[K     |████████████████████████████████| 9.3 MB 74.7 MB/s \n",
            "\u001b[?25hCollecting s3transfer<0.7.0,>=0.6.0\n",
            "  Downloading s3transfer-0.6.0-py3-none-any.whl (79 kB)\n",
            "\u001b[K     |████████████████████████████████| 79 kB 6.6 MB/s \n",
            "\u001b[?25hCollecting jmespath<2.0.0,>=0.7.1\n",
            "  Downloading jmespath-1.0.1-py3-none-any.whl (20 kB)\n",
            "Requirement already satisfied: python-dateutil<3.0.0,>=2.1 in /usr/local/lib/python3.7/dist-packages (from botocore<1.29.0,>=1.28.5->boto3->watson-machine-learning-client) (2.8.2)\n",
            "Collecting urllib3\n",
            "  Downloading urllib3-1.26.12-py2.py3-none-any.whl (140 kB)\n",
            "\u001b[K     |████████████████████████████████| 140 kB 59.3 MB/s \n",
            "\u001b[?25hRequirement already satisfied: six>=1.5 in /usr/local/lib/python3.7/dist-packages (from python-dateutil<3.0.0,>=2.1->botocore<1.29.0,>=1.28.5->boto3->watson-machine-learning-client) (1.15.0)\n",
            "Collecting ibm-cos-sdk-core==2.12.0\n",
            "  Downloading ibm-cos-sdk-core-2.12.0.tar.gz (956 kB)\n",
            "\u001b[K     |████████████████████████████████| 956 kB 67.8 MB/s \n",
            "\u001b[?25hCollecting ibm-cos-sdk-s3transfer==2.12.0\n",
            "  Downloading ibm-cos-sdk-s3transfer-2.12.0.tar.gz (135 kB)\n",
            "\u001b[K     |████████████████████████████████| 135 kB 65.0 MB/s \n",
            "\u001b[?25hCollecting jmespath<2.0.0,>=0.7.1\n",
            "  Downloading jmespath-0.10.0-py2.py3-none-any.whl (24 kB)\n",
            "Collecting requests\n",
            "  Downloading requests-2.28.1-py3-none-any.whl (62 kB)\n",
            "\u001b[K     |████████████████████████████████| 62 kB 1.4 MB/s \n",
            "\u001b[?25hRequirement already satisfied: charset-normalizer<3,>=2 in /usr/local/lib/python3.7/dist-packages (from requests->watson-machine-learning-client) (2.1.1)\n",
            "Requirement already satisfied: idna<4,>=2.5 in /usr/local/lib/python3.7/dist-packages (from requests->watson-machine-learning-client) (2.10)\n",
            "Requirement already satisfied: pytz>=2017.3 in /usr/local/lib/python3.7/dist-packages (from pandas->watson-machine-learning-client) (2022.5)\n",
            "Requirement already satisfied: numpy>=1.17.3 in /usr/local/lib/python3.7/dist-packages (from pandas->watson-machine-learning-client) (1.21.6)\n",
            "Building wheels for collected packages: ibm-cos-sdk, ibm-cos-sdk-core, ibm-cos-sdk-s3transfer\n",
            "  Building wheel for ibm-cos-sdk (setup.py) ... \u001b[?25l\u001b[?25hdone\n",
            "  Created wheel for ibm-cos-sdk: filename=ibm_cos_sdk-2.12.0-py3-none-any.whl size=73930 sha256=ba7b07c17e056c1d03137781c8c012e2a998075f64d24bba8349a8d2fc69ba8e\n",
            "  Stored in directory: /root/.cache/pip/wheels/ec/94/29/2b57327cf00664b6614304f7958abd29d77ea0e5bbece2ea57\n",
            "  Building wheel for ibm-cos-sdk-core (setup.py) ... \u001b[?25l\u001b[?25hdone\n",
            "  Created wheel for ibm-cos-sdk-core: filename=ibm_cos_sdk_core-2.12.0-py3-none-any.whl size=562962 sha256=5cf69266ced5ea0bec0a4fa7b1afb06b478e6fbcbb5b0b8f2e652db3e00f5c98\n",
            "  Stored in directory: /root/.cache/pip/wheels/64/56/fb/5cd6f4f40406c828a5289b95b2752a4d142a9afb359244ed8d\n",
            "  Building wheel for ibm-cos-sdk-s3transfer (setup.py) ... \u001b[?25l\u001b[?25hdone\n",
            "  Created wheel for ibm-cos-sdk-s3transfer: filename=ibm_cos_sdk_s3transfer-2.12.0-py3-none-any.whl size=89778 sha256=99ed9492707504430606632d2851d5937484959fb2300a06aef1a40bca9b2a7f\n",
            "  Stored in directory: /root/.cache/pip/wheels/57/79/6a/ffe3370ed7ebc00604f9f76766e1e0348dcdcad2b2e32df9e1\n",
            "Successfully built ibm-cos-sdk ibm-cos-sdk-core ibm-cos-sdk-s3transfer\n",
            "Installing collected packages: urllib3, requests, jmespath, ibm-cos-sdk-core, botocore, s3transfer, ibm-cos-sdk-s3transfer, lomond, ibm-cos-sdk, boto3, watson-machine-learning-client\n",
            "  Attempting uninstall: urllib3\n",
            "    Found existing installation: urllib3 1.24.3\n",
            "    Uninstalling urllib3-1.24.3:\n",
            "      Successfully uninstalled urllib3-1.24.3\n",
            "  Attempting uninstall: requests\n",
            "    Found existing installation: requests 2.23.0\n",
            "    Uninstalling requests-2.23.0:\n",
            "      Successfully uninstalled requests-2.23.0\n",
            "Successfully installed boto3-1.25.5 botocore-1.28.5 ibm-cos-sdk-2.12.0 ibm-cos-sdk-core-2.12.0 ibm-cos-sdk-s3transfer-2.12.0 jmespath-0.10.0 lomond-0.3.3 requests-2.28.1 s3transfer-0.6.0 urllib3-1.26.12 watson-machine-learning-client-1.0.391\n"
          ]
        },
        {
          "output_type": "display_data",
          "data": {
            "application/vnd.colab-display-data+json": {
              "pip_warning": {
                "packages": [
                  "requests",
                  "urllib3"
                ]
              }
            }
          },
          "metadata": {}
        }
      ]
    },
    {
      "cell_type": "code",
      "source": [
        "!pip install ibm_watson_machine_learning"
      ],
      "metadata": {
        "colab": {
          "base_uri": "https://localhost:8080/"
        },
        "id": "e64QWuarYK__",
        "outputId": "bb6d093b-b4d8-4163-8718-f6077915456d"
      },
      "id": "e64QWuarYK__",
      "execution_count": null,
      "outputs": [
        {
          "output_type": "stream",
          "name": "stdout",
          "text": [
            "Looking in indexes: https://pypi.org/simple, https://us-python.pkg.dev/colab-wheels/public/simple/\n",
            "Collecting ibm_watson_machine_learning\n",
            "  Downloading ibm_watson_machine_learning-1.0.256-py3-none-any.whl (1.8 MB)\n",
            "\u001b[K     |████████████████████████████████| 1.8 MB 14.8 MB/s \n",
            "\u001b[?25hRequirement already satisfied: packaging in /usr/local/lib/python3.7/dist-packages (from ibm_watson_machine_learning) (21.3)\n",
            "Requirement already satisfied: importlib-metadata in /usr/local/lib/python3.7/dist-packages (from ibm_watson_machine_learning) (4.13.0)\n",
            "Requirement already satisfied: requests in /usr/local/lib/python3.7/dist-packages (from ibm_watson_machine_learning) (2.28.1)\n",
            "Requirement already satisfied: certifi in /usr/local/lib/python3.7/dist-packages (from ibm_watson_machine_learning) (2022.9.24)\n",
            "Requirement already satisfied: urllib3 in /usr/local/lib/python3.7/dist-packages (from ibm_watson_machine_learning) (1.26.12)\n",
            "Requirement already satisfied: tabulate in /usr/local/lib/python3.7/dist-packages (from ibm_watson_machine_learning) (0.8.10)\n",
            "Requirement already satisfied: lomond in /usr/local/lib/python3.7/dist-packages (from ibm_watson_machine_learning) (0.3.3)\n",
            "Requirement already satisfied: pandas<1.5.0,>=0.24.2 in /usr/local/lib/python3.7/dist-packages (from ibm_watson_machine_learning) (1.3.5)\n",
            "Collecting ibm-cos-sdk==2.7.*\n",
            "  Downloading ibm-cos-sdk-2.7.0.tar.gz (51 kB)\n",
            "\u001b[K     |████████████████████████████████| 51 kB 617 kB/s \n",
            "\u001b[?25hCollecting ibm-cos-sdk-core==2.7.0\n",
            "  Downloading ibm-cos-sdk-core-2.7.0.tar.gz (824 kB)\n",
            "\u001b[K     |████████████████████████████████| 824 kB 68.0 MB/s \n",
            "\u001b[?25hCollecting ibm-cos-sdk-s3transfer==2.7.0\n",
            "  Downloading ibm-cos-sdk-s3transfer-2.7.0.tar.gz (133 kB)\n",
            "\u001b[K     |████████████████████████████████| 133 kB 64.8 MB/s \n",
            "\u001b[?25hRequirement already satisfied: jmespath<1.0.0,>=0.7.1 in /usr/local/lib/python3.7/dist-packages (from ibm-cos-sdk==2.7.*->ibm_watson_machine_learning) (0.10.0)\n",
            "Collecting docutils<0.16,>=0.10\n",
            "  Downloading docutils-0.15.2-py3-none-any.whl (547 kB)\n",
            "\u001b[K     |████████████████████████████████| 547 kB 61.8 MB/s \n",
            "\u001b[?25hRequirement already satisfied: python-dateutil<3.0.0,>=2.1 in /usr/local/lib/python3.7/dist-packages (from ibm-cos-sdk-core==2.7.0->ibm-cos-sdk==2.7.*->ibm_watson_machine_learning) (2.8.2)\n",
            "Requirement already satisfied: numpy>=1.17.3 in /usr/local/lib/python3.7/dist-packages (from pandas<1.5.0,>=0.24.2->ibm_watson_machine_learning) (1.21.6)\n",
            "Requirement already satisfied: pytz>=2017.3 in /usr/local/lib/python3.7/dist-packages (from pandas<1.5.0,>=0.24.2->ibm_watson_machine_learning) (2022.5)\n",
            "Requirement already satisfied: six>=1.5 in /usr/local/lib/python3.7/dist-packages (from python-dateutil<3.0.0,>=2.1->ibm-cos-sdk-core==2.7.0->ibm-cos-sdk==2.7.*->ibm_watson_machine_learning) (1.15.0)\n",
            "Requirement already satisfied: charset-normalizer<3,>=2 in /usr/local/lib/python3.7/dist-packages (from requests->ibm_watson_machine_learning) (2.1.1)\n",
            "Requirement already satisfied: idna<4,>=2.5 in /usr/local/lib/python3.7/dist-packages (from requests->ibm_watson_machine_learning) (2.10)\n",
            "Requirement already satisfied: zipp>=0.5 in /usr/local/lib/python3.7/dist-packages (from importlib-metadata->ibm_watson_machine_learning) (3.10.0)\n",
            "Requirement already satisfied: typing-extensions>=3.6.4 in /usr/local/lib/python3.7/dist-packages (from importlib-metadata->ibm_watson_machine_learning) (4.1.1)\n",
            "Requirement already satisfied: pyparsing!=3.0.5,>=2.0.2 in /usr/local/lib/python3.7/dist-packages (from packaging->ibm_watson_machine_learning) (3.0.9)\n",
            "Building wheels for collected packages: ibm-cos-sdk, ibm-cos-sdk-core, ibm-cos-sdk-s3transfer\n",
            "  Building wheel for ibm-cos-sdk (setup.py) ... \u001b[?25l\u001b[?25hdone\n",
            "  Created wheel for ibm-cos-sdk: filename=ibm_cos_sdk-2.7.0-py2.py3-none-any.whl size=72564 sha256=d3c0fda10effa37ead2378758ea16480c0a0ffd3a4c6c01708e009073370d635\n",
            "  Stored in directory: /root/.cache/pip/wheels/47/22/bf/e1154ff0f5de93cc477acd0ca69abfbb8b799c5b28a66b44c2\n",
            "  Building wheel for ibm-cos-sdk-core (setup.py) ... \u001b[?25l\u001b[?25hdone\n",
            "  Created wheel for ibm-cos-sdk-core: filename=ibm_cos_sdk_core-2.7.0-py2.py3-none-any.whl size=501013 sha256=91ecf33e8445d6c08ecdc07c57e89e9b6f4c42da1a2e99047700c0caa84948ce\n",
            "  Stored in directory: /root/.cache/pip/wheels/6c/a2/e4/c16d02f809a3ea998e17cfd02c13369281f3d232aaf5902c19\n",
            "  Building wheel for ibm-cos-sdk-s3transfer (setup.py) ... \u001b[?25l\u001b[?25hdone\n",
            "  Created wheel for ibm-cos-sdk-s3transfer: filename=ibm_cos_sdk_s3transfer-2.7.0-py2.py3-none-any.whl size=88619 sha256=9e001c649ce361e578b6d085ee1b15402c962dd7d31b50a639a7ad856f78af6c\n",
            "  Stored in directory: /root/.cache/pip/wheels/5f/b7/14/fbe02bc1ef1af890650c7e51743d1c83890852e598d164b9da\n",
            "Successfully built ibm-cos-sdk ibm-cos-sdk-core ibm-cos-sdk-s3transfer\n",
            "Installing collected packages: docutils, ibm-cos-sdk-core, ibm-cos-sdk-s3transfer, ibm-cos-sdk, ibm-watson-machine-learning\n",
            "  Attempting uninstall: docutils\n",
            "    Found existing installation: docutils 0.17.1\n",
            "    Uninstalling docutils-0.17.1:\n",
            "      Successfully uninstalled docutils-0.17.1\n",
            "  Attempting uninstall: ibm-cos-sdk-core\n",
            "    Found existing installation: ibm-cos-sdk-core 2.12.0\n",
            "    Uninstalling ibm-cos-sdk-core-2.12.0:\n",
            "      Successfully uninstalled ibm-cos-sdk-core-2.12.0\n",
            "  Attempting uninstall: ibm-cos-sdk-s3transfer\n",
            "    Found existing installation: ibm-cos-sdk-s3transfer 2.12.0\n",
            "    Uninstalling ibm-cos-sdk-s3transfer-2.12.0:\n",
            "      Successfully uninstalled ibm-cos-sdk-s3transfer-2.12.0\n",
            "  Attempting uninstall: ibm-cos-sdk\n",
            "    Found existing installation: ibm-cos-sdk 2.12.0\n",
            "    Uninstalling ibm-cos-sdk-2.12.0:\n",
            "      Successfully uninstalled ibm-cos-sdk-2.12.0\n",
            "Successfully installed docutils-0.15.2 ibm-cos-sdk-2.7.0 ibm-cos-sdk-core-2.7.0 ibm-cos-sdk-s3transfer-2.7.0 ibm-watson-machine-learning-1.0.256\n"
          ]
        }
      ]
    },
    {
      "cell_type": "code",
      "source": [
        "from ibm_watson_machine_learning import APIClient\n",
        "\n",
        "wml_credentials={\n",
        "    \"url\":\"https://us-south.ml.cloud.ibm.com\",\n",
        "    \"apikey\":\"kvW2sbDbTgwpN_pd4sfIR1HSXHl64KwaML3LqOfkL3W0\"\n",
        "}\n",
        "\n",
        "client = APIClient(wml_credentials)\n",
        "client"
      ],
      "metadata": {
        "colab": {
          "base_uri": "https://localhost:8080/"
        },
        "id": "Z28n1jvpYjoP",
        "outputId": "b955c4e5-78d9-4532-d0b6-723ff0c8ef7c"
      },
      "id": "Z28n1jvpYjoP",
      "execution_count": null,
      "outputs": [
        {
          "output_type": "stream",
          "name": "stdout",
          "text": [
            "Python 3.7 and 3.8 frameworks are deprecated and will be removed in a future release. Use Python 3.9 framework instead.\n"
          ]
        },
        {
          "output_type": "execute_result",
          "data": {
            "text/plain": [
              "<ibm_watson_machine_learning.client.APIClient at 0x7f2fb2aebbd0>"
            ]
          },
          "metadata": {},
          "execution_count": 23
        }
      ]
    },
    {
      "cell_type": "code",
      "source": [
        "client.spaces.get_details()"
      ],
      "metadata": {
        "colab": {
          "base_uri": "https://localhost:8080/"
        },
        "id": "0PtDhyhObZ7h",
        "outputId": "5f4f48d7-cc59-4af1-9280-5018c9ec2f7c"
      },
      "id": "0PtDhyhObZ7h",
      "execution_count": null,
      "outputs": [
        {
          "output_type": "execute_result",
          "data": {
            "text/plain": [
              "{'resources': [{'entity': {'compute': [{'crn': 'crn:v1:bluemix:public:pm-20:us-south:a/6d5f4f848d3d47fab0d0a11c07ba5ecc:215cf2c3-d68b-49d5-b7e4-3b28b5226247::',\n",
              "      'guid': '215cf2c3-d68b-49d5-b7e4-3b28b5226247',\n",
              "      'name': 'Watson Machine Learning-f9',\n",
              "      'type': 'machine_learning'}],\n",
              "    'description': '',\n",
              "    'name': 'Gesture',\n",
              "    'scope': {'bss_account_id': '6d5f4f848d3d47fab0d0a11c07ba5ecc'},\n",
              "    'stage': {'production': False},\n",
              "    'status': {'state': 'active'},\n",
              "    'storage': {'properties': {'bucket_name': '10464344-5757-4c38-9942-38d2ea6e9864',\n",
              "      'bucket_region': 'us-south',\n",
              "      'credentials': {'admin': {'access_key_id': 'ac92b86cafec49389cf955ba712a22a1',\n",
              "        'api_key': 'rTru1ieUj5Qb_107tPAG7RAu08oak91dM3G7tvSYEdzF',\n",
              "        'secret_access_key': '64ae8b74ab4660373c5342a15278c00051f81e7e0efd9263',\n",
              "        'service_id': 'ServiceId-62a66813-7608-46c1-bac3-bfb2701d8e07'},\n",
              "       'editor': {'access_key_id': 'b2adba240c3647cdab13ad1d8618c611',\n",
              "        'api_key': 'iqOeTz9R5lc_rY_LSwufSDdKjhbnElZlh8M0DutEvf4v',\n",
              "        'resource_key_crn': 'crn:v1:bluemix:public:cloud-object-storage:global:a/6d5f4f848d3d47fab0d0a11c07ba5ecc:861bae2a-147c-42be-aeea-be4c7da2462a::',\n",
              "        'secret_access_key': 'd52d861a1473023d3d9cc9661ebfd4b8f6c45d5aaebb8d09',\n",
              "        'service_id': 'ServiceId-fda2e439-68c4-41b9-b100-d58da1f68ce1'},\n",
              "       'viewer': {'access_key_id': '93ea0f9b3d904d94aa8e9bb6dc4fc39e',\n",
              "        'api_key': '5Hd5WOqgL5gHM2ayPeVVN0k0ztNlZlyaE0hx0iEhHw20',\n",
              "        'resource_key_crn': 'crn:v1:bluemix:public:cloud-object-storage:global:a/6d5f4f848d3d47fab0d0a11c07ba5ecc:861bae2a-147c-42be-aeea-be4c7da2462a::',\n",
              "        'secret_access_key': '00fcc4152eabd136ab97731e4b0f9fcfd76d035a0d11eab5',\n",
              "        'service_id': 'ServiceId-4a27cccd-9af7-4c89-a1b6-a0545ec014de'}},\n",
              "      'endpoint_url': 'https://s3.us-south.cloud-object-storage.appdomain.cloud',\n",
              "      'guid': '861bae2a-147c-42be-aeea-be4c7da2462a',\n",
              "      'resource_crn': 'crn:v1:bluemix:public:cloud-object-storage:global:a/6d5f4f848d3d47fab0d0a11c07ba5ecc:861bae2a-147c-42be-aeea-be4c7da2462a::'},\n",
              "     'type': 'bmcos_object_storage'}},\n",
              "   'metadata': {'created_at': '2022-11-01T14:28:42.149Z',\n",
              "    'creator_id': 'IBMid-665002HY57',\n",
              "    'id': 'db6020f5-fa05-48be-8006-5c34793f7acb',\n",
              "    'updated_at': '2022-11-01T14:29:04.752Z',\n",
              "    'url': '/v2/spaces/db6020f5-fa05-48be-8006-5c34793f7acb'}}]}"
            ]
          },
          "metadata": {},
          "execution_count": 24
        }
      ]
    },
    {
      "cell_type": "code",
      "source": [
        "def guid_space_name(client,Gesture_Deployment):\n",
        "  space = client.spaces.get_details()\n",
        "  return(next(item for item in space['resources'] if item['entity']['name']==Gesture_Deployment)['metadata']['id'])"
      ],
      "metadata": {
        "id": "bMW5UF-bcYK3"
      },
      "id": "bMW5UF-bcYK3",
      "execution_count": null,
      "outputs": []
    },
    {
      "cell_type": "code",
      "source": [
        "space_uid = guid_space_name(client,'Gesture')\n",
        "space_uid"
      ],
      "metadata": {
        "colab": {
          "base_uri": "https://localhost:8080/",
          "height": 36
        },
        "id": "eG3tBeHbdQin",
        "outputId": "3287d88b-7888-40c4-c66e-f1aade721ae8"
      },
      "id": "eG3tBeHbdQin",
      "execution_count": null,
      "outputs": [
        {
          "output_type": "execute_result",
          "data": {
            "text/plain": [
              "'db6020f5-fa05-48be-8006-5c34793f7acb'"
            ],
            "application/vnd.google.colaboratory.intrinsic+json": {
              "type": "string"
            }
          },
          "metadata": {},
          "execution_count": 26
        }
      ]
    },
    {
      "cell_type": "code",
      "source": [
        "client.set.default_space(space_uid)"
      ],
      "metadata": {
        "colab": {
          "base_uri": "https://localhost:8080/",
          "height": 36
        },
        "id": "fju7NQcgdZqe",
        "outputId": "7929e313-e544-4e29-b3a3-158d3c306022"
      },
      "id": "fju7NQcgdZqe",
      "execution_count": null,
      "outputs": [
        {
          "output_type": "execute_result",
          "data": {
            "text/plain": [
              "'SUCCESS'"
            ],
            "application/vnd.google.colaboratory.intrinsic+json": {
              "type": "string"
            }
          },
          "metadata": {},
          "execution_count": 27
        }
      ]
    },
    {
      "cell_type": "code",
      "source": [
        "client.software_specifications.list()"
      ],
      "metadata": {
        "colab": {
          "base_uri": "https://localhost:8080/"
        },
        "id": "1dKTYRhudeil",
        "outputId": "8dda5b50-7f4e-446e-e554-727c0bd32c04"
      },
      "id": "1dKTYRhudeil",
      "execution_count": null,
      "outputs": [
        {
          "output_type": "stream",
          "name": "stdout",
          "text": [
            "-----------------------------  ------------------------------------  ----\n",
            "NAME                           ASSET_ID                              TYPE\n",
            "default_py3.6                  0062b8c9-8b7d-44a0-a9b9-46c416adcbd9  base\n",
            "kernel-spark3.2-scala2.12      020d69ce-7ac1-5e68-ac1a-31189867356a  base\n",
            "pytorch-onnx_1.3-py3.7-edt     069ea134-3346-5748-b513-49120e15d288  base\n",
            "scikit-learn_0.20-py3.6        09c5a1d0-9c1e-4473-a344-eb7b665ff687  base\n",
            "spark-mllib_3.0-scala_2.12     09f4cff0-90a7-5899-b9ed-1ef348aebdee  base\n",
            "pytorch-onnx_rt22.1-py3.9      0b848dd4-e681-5599-be41-b5f6fccc6471  base\n",
            "ai-function_0.1-py3.6          0cdb0f1e-5376-4f4d-92dd-da3b69aa9bda  base\n",
            "shiny-r3.6                     0e6e79df-875e-4f24-8ae9-62dcc2148306  base\n",
            "tensorflow_2.4-py3.7-horovod   1092590a-307d-563d-9b62-4eb7d64b3f22  base\n",
            "pytorch_1.1-py3.6              10ac12d6-6b30-4ccd-8392-3e922c096a92  base\n",
            "tensorflow_1.15-py3.6-ddl      111e41b3-de2d-5422-a4d6-bf776828c4b7  base\n",
            "runtime-22.1-py3.9             12b83a17-24d8-5082-900f-0ab31fbfd3cb  base\n",
            "scikit-learn_0.22-py3.6        154010fa-5b3b-4ac1-82af-4d5ee5abbc85  base\n",
            "default_r3.6                   1b70aec3-ab34-4b87-8aa0-a4a3c8296a36  base\n",
            "pytorch-onnx_1.3-py3.6         1bc6029a-cc97-56da-b8e0-39c3880dbbe7  base\n",
            "kernel-spark3.3-r3.6           1c9e5454-f216-59dd-a20e-474a5cdf5988  base\n",
            "pytorch-onnx_rt22.1-py3.9-edt  1d362186-7ad5-5b59-8b6c-9d0880bde37f  base\n",
            "tensorflow_2.1-py3.6           1eb25b84-d6ed-5dde-b6a5-3fbdf1665666  base\n",
            "spark-mllib_3.2                20047f72-0a98-58c7-9ff5-a77b012eb8f5  base\n",
            "tensorflow_2.4-py3.8-horovod   217c16f6-178f-56bf-824a-b19f20564c49  base\n",
            "runtime-22.1-py3.9-cuda        26215f05-08c3-5a41-a1b0-da66306ce658  base\n",
            "do_py3.8                       295addb5-9ef9-547e-9bf4-92ae3563e720  base\n",
            "autoai-ts_3.8-py3.8            2aa0c932-798f-5ae9-abd6-15e0c2402fb5  base\n",
            "tensorflow_1.15-py3.6          2b73a275-7cbf-420b-a912-eae7f436e0bc  base\n",
            "kernel-spark3.3-py3.9          2b7961e2-e3b1-5a8c-a491-482c8368839a  base\n",
            "pytorch_1.2-py3.6              2c8ef57d-2687-4b7d-acce-01f94976dac1  base\n",
            "spark-mllib_2.3                2e51f700-bca0-4b0d-88dc-5c6791338875  base\n",
            "pytorch-onnx_1.1-py3.6-edt     32983cea-3f32-4400-8965-dde874a8d67e  base\n",
            "spark-mllib_3.0-py37           36507ebe-8770-55ba-ab2a-eafe787600e9  base\n",
            "spark-mllib_2.4                390d21f8-e58b-4fac-9c55-d7ceda621326  base\n",
            "xgboost_0.82-py3.6             39e31acd-5f30-41dc-ae44-60233c80306e  base\n",
            "pytorch-onnx_1.2-py3.6-edt     40589d0e-7019-4e28-8daa-fb03b6f4fe12  base\n",
            "default_r36py38                41c247d3-45f8-5a71-b065-8580229facf0  base\n",
            "autoai-ts_rt22.1-py3.9         4269d26e-07ba-5d40-8f66-2d495b0c71f7  base\n",
            "autoai-obm_3.0                 42b92e18-d9ab-567f-988a-4240ba1ed5f7  base\n",
            "pmml-3.0_4.3                   493bcb95-16f1-5bc5-bee8-81b8af80e9c7  base\n",
            "spark-mllib_2.4-r_3.6          49403dff-92e9-4c87-a3d7-a42d0021c095  base\n",
            "xgboost_0.90-py3.6             4ff8d6c2-1343-4c18-85e1-689c965304d3  base\n",
            "pytorch-onnx_1.1-py3.6         50f95b2a-bc16-43bb-bc94-b0bed208c60b  base\n",
            "autoai-ts_3.9-py3.8            52c57136-80fa-572e-8728-a5e7cbb42cde  base\n",
            "spark-mllib_2.4-scala_2.11     55a70f99-7320-4be5-9fb9-9edb5a443af5  base\n",
            "spark-mllib_3.0                5c1b0ca2-4977-5c2e-9439-ffd44ea8ffe9  base\n",
            "autoai-obm_2.0                 5c2e37fa-80b8-5e77-840f-d912469614ee  base\n",
            "spss-modeler_18.1              5c3cad7e-507f-4b2a-a9a3-ab53a21dee8b  base\n",
            "cuda-py3.8                     5d3232bf-c86b-5df4-a2cd-7bb870a1cd4e  base\n",
            "autoai-kb_3.1-py3.7            632d4b22-10aa-5180-88f0-f52dfb6444d7  base\n",
            "pytorch-onnx_1.7-py3.8         634d3cdc-b562-5bf9-a2d4-ea90a478456b  base\n",
            "spark-mllib_2.3-r_3.6          6586b9e3-ccd6-4f92-900f-0f8cb2bd6f0c  base\n",
            "tensorflow_2.4-py3.7           65e171d7-72d1-55d9-8ebb-f813d620c9bb  base\n",
            "spss-modeler_18.2              687eddc9-028a-4117-b9dd-e57b36f1efa5  base\n",
            "-----------------------------  ------------------------------------  ----\n",
            "Note: Only first 50 records were displayed. To display more use 'limit' parameter.\n"
          ]
        }
      ]
    },
    {
      "cell_type": "code",
      "source": [
        "software_space_uid = client.software_specifications.get_uid_by_name('tensorflow_rt22.1-py3.9')\n",
        "software_space_uid"
      ],
      "metadata": {
        "colab": {
          "base_uri": "https://localhost:8080/",
          "height": 36
        },
        "id": "JegePCOidkW0",
        "outputId": "e296db46-3023-491a-fa33-63a6dc92be3d"
      },
      "id": "JegePCOidkW0",
      "execution_count": null,
      "outputs": [
        {
          "output_type": "execute_result",
          "data": {
            "text/plain": [
              "'acd9c798-6974-5d2f-a657-ce06e986df4d'"
            ],
            "application/vnd.google.colaboratory.intrinsic+json": {
              "type": "string"
            }
          },
          "metadata": {},
          "execution_count": 29
        }
      ]
    },
    {
      "cell_type": "code",
      "source": [
        "model_details = client.repository.store_model(model='hand-gesture.tgz',meta_props={\n",
        "    client.repository.ModelMetaNames.NAME:\"Model Training\",\n",
        "    client.repository.ModelMetaNames.TYPE:\"tensorflow_2.7\",\n",
        "    client.repository.ModelMetaNames.SOFTWARE_SPEC_UID:software_space_uid\n",
        "})"
      ],
      "metadata": {
        "id": "XMXpLSI_d7pf"
      },
      "id": "XMXpLSI_d7pf",
      "execution_count": null,
      "outputs": []
    },
    {
      "cell_type": "code",
      "source": [
        "model_details"
      ],
      "metadata": {
        "colab": {
          "base_uri": "https://localhost:8080/"
        },
        "id": "WO83KOQ7emnY",
        "outputId": "c970eb58-1022-44f0-fee5-8ffbe390d9d5"
      },
      "id": "WO83KOQ7emnY",
      "execution_count": null,
      "outputs": [
        {
          "output_type": "execute_result",
          "data": {
            "text/plain": [
              "{'entity': {'hybrid_pipeline_software_specs': [],\n",
              "  'software_spec': {'id': 'acd9c798-6974-5d2f-a657-ce06e986df4d',\n",
              "   'name': 'tensorflow_rt22.1-py3.9'},\n",
              "  'type': 'tensorflow_2.7'},\n",
              " 'metadata': {'created_at': '2022-11-01T15:02:02.504Z',\n",
              "  'id': '3fe5d47a-a49e-4356-86a4-6b5a794e165f',\n",
              "  'modified_at': '2022-11-01T15:02:12.740Z',\n",
              "  'name': 'Model Training',\n",
              "  'owner': 'IBMid-665002HY57',\n",
              "  'resource_key': '65746a45-fc2c-49c7-b9b3-2837ff7255f7',\n",
              "  'space_id': 'db6020f5-fa05-48be-8006-5c34793f7acb'},\n",
              " 'system': {'warnings': []}}"
            ]
          },
          "metadata": {},
          "execution_count": 31
        }
      ]
    },
    {
      "cell_type": "code",
      "source": [
        "model_id = client.repository.get_model_id(model_details)\n",
        "model_id"
      ],
      "metadata": {
        "colab": {
          "base_uri": "https://localhost:8080/",
          "height": 36
        },
        "id": "U6ki2-Z2etEY",
        "outputId": "70b5e7e0-b13e-45d4-919f-440e378323bf"
      },
      "id": "U6ki2-Z2etEY",
      "execution_count": null,
      "outputs": [
        {
          "output_type": "execute_result",
          "data": {
            "text/plain": [
              "'3fe5d47a-a49e-4356-86a4-6b5a794e165f'"
            ],
            "application/vnd.google.colaboratory.intrinsic+json": {
              "type": "string"
            }
          },
          "metadata": {},
          "execution_count": 32
        }
      ]
    },
    {
      "cell_type": "code",
      "source": [
        "client.repository.download(model_id,'gesture.tar.gb')"
      ],
      "metadata": {
        "colab": {
          "base_uri": "https://localhost:8080/",
          "height": 53
        },
        "id": "Sk6BnIoPe5qI",
        "outputId": "269072be-80d9-4cb0-cd03-b54c1d06d110"
      },
      "id": "Sk6BnIoPe5qI",
      "execution_count": null,
      "outputs": [
        {
          "output_type": "stream",
          "name": "stdout",
          "text": [
            "Successfully saved model content to file: 'gesture.tar.gb'\n"
          ]
        },
        {
          "output_type": "execute_result",
          "data": {
            "text/plain": [
              "'/content/gesture.tar.gb'"
            ],
            "application/vnd.google.colaboratory.intrinsic+json": {
              "type": "string"
            }
          },
          "metadata": {},
          "execution_count": 33
        }
      ]
    }
  ],
  "metadata": {
    "kernelspec": {
      "display_name": "Python 3.10.8 64-bit (microsoft store)",
      "language": "python",
      "name": "python3"
    },
    "language_info": {
      "codemirror_mode": {
        "name": "ipython",
        "version": 3
      },
      "file_extension": ".py",
      "mimetype": "text/x-python",
      "name": "python",
      "nbconvert_exporter": "python",
      "pygments_lexer": "ipython3",
      "version": "3.10.8"
    },
    "vscode": {
      "interpreter": {
        "hash": "dcdadc37ca0217e237549d0f206bc9b62c37c6c7aec46b46d89dad1d47945d56"
      }
    },
    "colab": {
      "provenance": []
    }
  },
  "nbformat": 4,
  "nbformat_minor": 5
}